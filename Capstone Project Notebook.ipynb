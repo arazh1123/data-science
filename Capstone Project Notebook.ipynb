{
 "cells": [
  {
   "cell_type": "markdown",
   "metadata": {},
   "source": [
    "### **1. Introduction** ###"
   ]
  },
  {
   "cell_type": "markdown",
   "metadata": {},
   "source": [
    "**Problem**: Risk prediction of impact of different factors to traffic accident  \n",
    "**Audience**: Fleet Services   \n",
    "**Solution Provider**: Navigation System Software Provider  \n",
    "\n",
    "Traffic accidents has been one of the major threats to fleet services, as fleet vehicles are facing more risks in long-distance commute, and higher pressure to meet the delivery deadlines. Hereby, when experiencing severe weather and traffic accidents, fleet services are under high risks or may even cause accidents if not well operated. \n",
    "\n",
    "To help fleet companies and their drivers without compromising the high-efficiency that they are trying hard to meet, a navigation company is working on creating a prediction model of how likely different factors including weather, location, driver situation, vehicle types and more.    "
   ]
  },
  {
   "cell_type": "markdown",
   "metadata": {},
   "source": [
    "### **2. About Data** ###"
   ]
  },
  {
   "cell_type": "markdown",
   "metadata": {},
   "source": [
    "#### **2.1 Data Source and Overview** ####\n",
    "\n",
    "The data is provided by **Seattle Police Station** which shows traffic collisions from **2004 to present on a weekly basis**. \n",
    "\n",
    "The data contains **37 independent variables and 194,673 entries**, and records the situation of the collisions including **weather condition, location, type of collision, vehicles involved, road and light conditions and more**.  \n",
    "We will be choosing the impact factors regarding collision situations that will be most applicable for fleet services."
   ]
  },
  {
   "cell_type": "markdown",
   "metadata": {},
   "source": [
    "\n",
    "#### **2.2 Selected Variables** ####\n",
    "\n",
    "By looking at the data, we found that there are multiple parameters recorded for a single accident, including **collision ids and keys, collision data, severity code defined by SPD, collision status and type, location, pedestrian and vehicles involved, weather, road and light condition, speed, and more**. An brief overview is provided below:"
   ]
  },
  {
   "cell_type": "code",
   "execution_count": 3,
   "metadata": {},
   "outputs": [
    {
     "name": "stderr",
     "output_type": "stream",
     "text": [
      "/home/jupyterlab/conda/envs/python/lib/python3.6/site-packages/IPython/core/interactiveshell.py:3072: DtypeWarning: Columns (33) have mixed types.Specify dtype option on import or set low_memory=False.\n",
      "  interactivity=interactivity, compiler=compiler, result=result)\n"
     ]
    },
    {
     "data": {
      "text/html": [
       "<div>\n",
       "<style scoped>\n",
       "    .dataframe tbody tr th:only-of-type {\n",
       "        vertical-align: middle;\n",
       "    }\n",
       "\n",
       "    .dataframe tbody tr th {\n",
       "        vertical-align: top;\n",
       "    }\n",
       "\n",
       "    .dataframe thead th {\n",
       "        text-align: right;\n",
       "    }\n",
       "</style>\n",
       "<table border=\"1\" class=\"dataframe\">\n",
       "  <thead>\n",
       "    <tr style=\"text-align: right;\">\n",
       "      <th></th>\n",
       "      <th>SEVERITYCODE</th>\n",
       "      <th>X</th>\n",
       "      <th>Y</th>\n",
       "      <th>OBJECTID</th>\n",
       "      <th>INCKEY</th>\n",
       "      <th>COLDETKEY</th>\n",
       "      <th>REPORTNO</th>\n",
       "      <th>STATUS</th>\n",
       "      <th>ADDRTYPE</th>\n",
       "      <th>INTKEY</th>\n",
       "      <th>...</th>\n",
       "      <th>ROADCOND</th>\n",
       "      <th>LIGHTCOND</th>\n",
       "      <th>PEDROWNOTGRNT</th>\n",
       "      <th>SDOTCOLNUM</th>\n",
       "      <th>SPEEDING</th>\n",
       "      <th>ST_COLCODE</th>\n",
       "      <th>ST_COLDESC</th>\n",
       "      <th>SEGLANEKEY</th>\n",
       "      <th>CROSSWALKKEY</th>\n",
       "      <th>HITPARKEDCAR</th>\n",
       "    </tr>\n",
       "  </thead>\n",
       "  <tbody>\n",
       "    <tr>\n",
       "      <th>0</th>\n",
       "      <td>2</td>\n",
       "      <td>-122.323148</td>\n",
       "      <td>47.703140</td>\n",
       "      <td>1</td>\n",
       "      <td>1307</td>\n",
       "      <td>1307</td>\n",
       "      <td>3502005</td>\n",
       "      <td>Matched</td>\n",
       "      <td>Intersection</td>\n",
       "      <td>37475.0</td>\n",
       "      <td>...</td>\n",
       "      <td>Wet</td>\n",
       "      <td>Daylight</td>\n",
       "      <td>NaN</td>\n",
       "      <td>NaN</td>\n",
       "      <td>NaN</td>\n",
       "      <td>10</td>\n",
       "      <td>Entering at angle</td>\n",
       "      <td>0</td>\n",
       "      <td>0</td>\n",
       "      <td>N</td>\n",
       "    </tr>\n",
       "    <tr>\n",
       "      <th>1</th>\n",
       "      <td>1</td>\n",
       "      <td>-122.347294</td>\n",
       "      <td>47.647172</td>\n",
       "      <td>2</td>\n",
       "      <td>52200</td>\n",
       "      <td>52200</td>\n",
       "      <td>2607959</td>\n",
       "      <td>Matched</td>\n",
       "      <td>Block</td>\n",
       "      <td>NaN</td>\n",
       "      <td>...</td>\n",
       "      <td>Wet</td>\n",
       "      <td>Dark - Street Lights On</td>\n",
       "      <td>NaN</td>\n",
       "      <td>6354039.0</td>\n",
       "      <td>NaN</td>\n",
       "      <td>11</td>\n",
       "      <td>From same direction - both going straight - bo...</td>\n",
       "      <td>0</td>\n",
       "      <td>0</td>\n",
       "      <td>N</td>\n",
       "    </tr>\n",
       "    <tr>\n",
       "      <th>2</th>\n",
       "      <td>1</td>\n",
       "      <td>-122.334540</td>\n",
       "      <td>47.607871</td>\n",
       "      <td>3</td>\n",
       "      <td>26700</td>\n",
       "      <td>26700</td>\n",
       "      <td>1482393</td>\n",
       "      <td>Matched</td>\n",
       "      <td>Block</td>\n",
       "      <td>NaN</td>\n",
       "      <td>...</td>\n",
       "      <td>Dry</td>\n",
       "      <td>Daylight</td>\n",
       "      <td>NaN</td>\n",
       "      <td>4323031.0</td>\n",
       "      <td>NaN</td>\n",
       "      <td>32</td>\n",
       "      <td>One parked--one moving</td>\n",
       "      <td>0</td>\n",
       "      <td>0</td>\n",
       "      <td>N</td>\n",
       "    </tr>\n",
       "    <tr>\n",
       "      <th>3</th>\n",
       "      <td>1</td>\n",
       "      <td>-122.334803</td>\n",
       "      <td>47.604803</td>\n",
       "      <td>4</td>\n",
       "      <td>1144</td>\n",
       "      <td>1144</td>\n",
       "      <td>3503937</td>\n",
       "      <td>Matched</td>\n",
       "      <td>Block</td>\n",
       "      <td>NaN</td>\n",
       "      <td>...</td>\n",
       "      <td>Dry</td>\n",
       "      <td>Daylight</td>\n",
       "      <td>NaN</td>\n",
       "      <td>NaN</td>\n",
       "      <td>NaN</td>\n",
       "      <td>23</td>\n",
       "      <td>From same direction - all others</td>\n",
       "      <td>0</td>\n",
       "      <td>0</td>\n",
       "      <td>N</td>\n",
       "    </tr>\n",
       "    <tr>\n",
       "      <th>4</th>\n",
       "      <td>2</td>\n",
       "      <td>-122.306426</td>\n",
       "      <td>47.545739</td>\n",
       "      <td>5</td>\n",
       "      <td>17700</td>\n",
       "      <td>17700</td>\n",
       "      <td>1807429</td>\n",
       "      <td>Matched</td>\n",
       "      <td>Intersection</td>\n",
       "      <td>34387.0</td>\n",
       "      <td>...</td>\n",
       "      <td>Wet</td>\n",
       "      <td>Daylight</td>\n",
       "      <td>NaN</td>\n",
       "      <td>4028032.0</td>\n",
       "      <td>NaN</td>\n",
       "      <td>10</td>\n",
       "      <td>Entering at angle</td>\n",
       "      <td>0</td>\n",
       "      <td>0</td>\n",
       "      <td>N</td>\n",
       "    </tr>\n",
       "  </tbody>\n",
       "</table>\n",
       "<p>5 rows × 38 columns</p>\n",
       "</div>"
      ],
      "text/plain": [
       "   SEVERITYCODE           X          Y  OBJECTID  INCKEY  COLDETKEY REPORTNO  \\\n",
       "0             2 -122.323148  47.703140         1    1307       1307  3502005   \n",
       "1             1 -122.347294  47.647172         2   52200      52200  2607959   \n",
       "2             1 -122.334540  47.607871         3   26700      26700  1482393   \n",
       "3             1 -122.334803  47.604803         4    1144       1144  3503937   \n",
       "4             2 -122.306426  47.545739         5   17700      17700  1807429   \n",
       "\n",
       "    STATUS      ADDRTYPE   INTKEY  ... ROADCOND                LIGHTCOND  \\\n",
       "0  Matched  Intersection  37475.0  ...      Wet                 Daylight   \n",
       "1  Matched         Block      NaN  ...      Wet  Dark - Street Lights On   \n",
       "2  Matched         Block      NaN  ...      Dry                 Daylight   \n",
       "3  Matched         Block      NaN  ...      Dry                 Daylight   \n",
       "4  Matched  Intersection  34387.0  ...      Wet                 Daylight   \n",
       "\n",
       "  PEDROWNOTGRNT  SDOTCOLNUM SPEEDING ST_COLCODE  \\\n",
       "0           NaN         NaN      NaN         10   \n",
       "1           NaN   6354039.0      NaN         11   \n",
       "2           NaN   4323031.0      NaN         32   \n",
       "3           NaN         NaN      NaN         23   \n",
       "4           NaN   4028032.0      NaN         10   \n",
       "\n",
       "                                          ST_COLDESC  SEGLANEKEY  \\\n",
       "0                                  Entering at angle           0   \n",
       "1  From same direction - both going straight - bo...           0   \n",
       "2                             One parked--one moving           0   \n",
       "3                   From same direction - all others           0   \n",
       "4                                  Entering at angle           0   \n",
       "\n",
       "   CROSSWALKKEY  HITPARKEDCAR  \n",
       "0             0             N  \n",
       "1             0             N  \n",
       "2             0             N  \n",
       "3             0             N  \n",
       "4             0             N  \n",
       "\n",
       "[5 rows x 38 columns]"
      ]
     },
     "execution_count": 3,
     "metadata": {},
     "output_type": "execute_result"
    }
   ],
   "source": [
    "import pandas as pd\n",
    "import numpy as np\n",
    "\n",
    "data = pd.read_csv('Data-Collisions.csv')\n",
    "df = pd.DataFrame(data)\n",
    "df.head()"
   ]
  },
  {
   "cell_type": "markdown",
   "metadata": {},
   "source": [
    "In this case, the **severity code('SEVERITYCODE')** is the target value we want to predict, which means the level of severity - the more severe it is, more likely the fleet company should adjust the delivery time window and notify the driver in advance. "
   ]
  },
  {
   "cell_type": "code",
   "execution_count": 4,
   "metadata": {},
   "outputs": [
    {
     "data": {
      "text/plain": [
       "Index(['SEVERITYCODE', 'X', 'Y', 'OBJECTID', 'INCKEY', 'COLDETKEY', 'REPORTNO',\n",
       "       'STATUS', 'ADDRTYPE', 'INTKEY', 'LOCATION', 'EXCEPTRSNCODE',\n",
       "       'EXCEPTRSNDESC', 'SEVERITYCODE.1', 'SEVERITYDESC', 'COLLISIONTYPE',\n",
       "       'PERSONCOUNT', 'PEDCOUNT', 'PEDCYLCOUNT', 'VEHCOUNT', 'INCDATE',\n",
       "       'INCDTTM', 'JUNCTIONTYPE', 'SDOT_COLCODE', 'SDOT_COLDESC',\n",
       "       'INATTENTIONIND', 'UNDERINFL', 'WEATHER', 'ROADCOND', 'LIGHTCOND',\n",
       "       'PEDROWNOTGRNT', 'SDOTCOLNUM', 'SPEEDING', 'ST_COLCODE', 'ST_COLDESC',\n",
       "       'SEGLANEKEY', 'CROSSWALKKEY', 'HITPARKEDCAR'],\n",
       "      dtype='object')"
      ]
     },
     "execution_count": 4,
     "metadata": {},
     "output_type": "execute_result"
    }
   ],
   "source": [
    "df.columns"
   ]
  },
  {
   "cell_type": "markdown",
   "metadata": {},
   "source": [
    "Then we will choose the independent variables that are critical to predict the collistion severity. Among all the factors, we have to pick the ones that **cause the collision** but **not the result of collision**. For example, collision IDs and keys which are for the Police's purpose to keep record should be removed, as well as how many pedestrian and vehicles involved - such details reflecting severity are already part of the target value we want to predict.  \n",
    "  \n",
    "Hereby, we picked the following parameters shown below:"
   ]
  },
  {
   "cell_type": "code",
   "execution_count": 5,
   "metadata": {},
   "outputs": [
    {
     "data": {
      "text/html": [
       "<div>\n",
       "<style scoped>\n",
       "    .dataframe tbody tr th:only-of-type {\n",
       "        vertical-align: middle;\n",
       "    }\n",
       "\n",
       "    .dataframe tbody tr th {\n",
       "        vertical-align: top;\n",
       "    }\n",
       "\n",
       "    .dataframe thead th {\n",
       "        text-align: right;\n",
       "    }\n",
       "</style>\n",
       "<table border=\"1\" class=\"dataframe\">\n",
       "  <thead>\n",
       "    <tr style=\"text-align: right;\">\n",
       "      <th></th>\n",
       "      <th>SEVERITYCODE</th>\n",
       "      <th>X</th>\n",
       "      <th>Y</th>\n",
       "      <th>INATTENTIONIND</th>\n",
       "      <th>UNDERINFL</th>\n",
       "      <th>WEATHER</th>\n",
       "      <th>ROADCOND</th>\n",
       "      <th>LIGHTCOND</th>\n",
       "      <th>SPEEDING</th>\n",
       "    </tr>\n",
       "  </thead>\n",
       "  <tbody>\n",
       "    <tr>\n",
       "      <th>0</th>\n",
       "      <td>2</td>\n",
       "      <td>-122.323148</td>\n",
       "      <td>47.703140</td>\n",
       "      <td>NaN</td>\n",
       "      <td>N</td>\n",
       "      <td>Overcast</td>\n",
       "      <td>Wet</td>\n",
       "      <td>Daylight</td>\n",
       "      <td>NaN</td>\n",
       "    </tr>\n",
       "    <tr>\n",
       "      <th>1</th>\n",
       "      <td>1</td>\n",
       "      <td>-122.347294</td>\n",
       "      <td>47.647172</td>\n",
       "      <td>NaN</td>\n",
       "      <td>0</td>\n",
       "      <td>Raining</td>\n",
       "      <td>Wet</td>\n",
       "      <td>Dark - Street Lights On</td>\n",
       "      <td>NaN</td>\n",
       "    </tr>\n",
       "    <tr>\n",
       "      <th>2</th>\n",
       "      <td>1</td>\n",
       "      <td>-122.334540</td>\n",
       "      <td>47.607871</td>\n",
       "      <td>NaN</td>\n",
       "      <td>0</td>\n",
       "      <td>Overcast</td>\n",
       "      <td>Dry</td>\n",
       "      <td>Daylight</td>\n",
       "      <td>NaN</td>\n",
       "    </tr>\n",
       "    <tr>\n",
       "      <th>3</th>\n",
       "      <td>1</td>\n",
       "      <td>-122.334803</td>\n",
       "      <td>47.604803</td>\n",
       "      <td>NaN</td>\n",
       "      <td>N</td>\n",
       "      <td>Clear</td>\n",
       "      <td>Dry</td>\n",
       "      <td>Daylight</td>\n",
       "      <td>NaN</td>\n",
       "    </tr>\n",
       "    <tr>\n",
       "      <th>4</th>\n",
       "      <td>2</td>\n",
       "      <td>-122.306426</td>\n",
       "      <td>47.545739</td>\n",
       "      <td>NaN</td>\n",
       "      <td>0</td>\n",
       "      <td>Raining</td>\n",
       "      <td>Wet</td>\n",
       "      <td>Daylight</td>\n",
       "      <td>NaN</td>\n",
       "    </tr>\n",
       "  </tbody>\n",
       "</table>\n",
       "</div>"
      ],
      "text/plain": [
       "   SEVERITYCODE           X          Y INATTENTIONIND UNDERINFL   WEATHER  \\\n",
       "0             2 -122.323148  47.703140            NaN         N  Overcast   \n",
       "1             1 -122.347294  47.647172            NaN         0   Raining   \n",
       "2             1 -122.334540  47.607871            NaN         0  Overcast   \n",
       "3             1 -122.334803  47.604803            NaN         N     Clear   \n",
       "4             2 -122.306426  47.545739            NaN         0   Raining   \n",
       "\n",
       "  ROADCOND                LIGHTCOND SPEEDING  \n",
       "0      Wet                 Daylight      NaN  \n",
       "1      Wet  Dark - Street Lights On      NaN  \n",
       "2      Dry                 Daylight      NaN  \n",
       "3      Dry                 Daylight      NaN  \n",
       "4      Wet                 Daylight      NaN  "
      ]
     },
     "execution_count": 5,
     "metadata": {},
     "output_type": "execute_result"
    }
   ],
   "source": [
    "df2 = df[['SEVERITYCODE', 'X', 'Y', 'INATTENTIONIND', \n",
    "          'UNDERINFL', 'WEATHER', 'ROADCOND', 'LIGHTCOND','SPEEDING']]\n",
    "df2.head()"
   ]
  },
  {
   "cell_type": "markdown",
   "metadata": {},
   "source": [
    "### **03 Methodolody** ###"
   ]
  },
  {
   "cell_type": "markdown",
   "metadata": {},
   "source": [
    "Based on the current given variables, we will further explore the entries to clean up missing variables and check if there're enough valid entries"
   ]
  },
  {
   "cell_type": "code",
   "execution_count": 6,
   "metadata": {},
   "outputs": [],
   "source": [
    "import matplotlib.pyplot as plt\n",
    "import pylab as pl\n",
    "import seaborn as sns\n",
    "from sklearn import preprocessing"
   ]
  },
  {
   "cell_type": "code",
   "execution_count": 7,
   "metadata": {},
   "outputs": [
    {
     "data": {
      "image/png": "[encoded data removed]",
      "text/plain": [
       "<Figure size 432x288 with 1 Axes>"
      ]
     },
     "metadata": {
      "needs_background": "light"
     },
     "output_type": "display_data"
    }
   ],
   "source": [
    "variables = df2.describe(include=\"all\")\n",
    "variables_freq=variables[['SEVERITYCODE', 'X', 'Y', 'INATTENTIONIND', 'UNDERINFL', 'WEATHER', 'ROADCOND', 'LIGHTCOND','SPEEDING']]\n",
    "variables_freq.drop(['unique','top','freq','mean','std','min','max','25%','50%','75%'],axis=0,inplace=True)\n",
    "variables_freq = variables_freq.transpose()\n",
    "variables_freq.plot(kind = 'bar')\n",
    "plt.title(\"Frequency Overview of Variables Impacting Traffic Accident\")\n",
    "plt.xlabel(\"Variables\")\n",
    "plt.ylabel(\"Frequency\")\n",
    "x_ticks = pd.DataFrame(variables_freq.columns)\n",
    "plt.xticks(rotation = 90)\n",
    "plt.show()"
   ]
  },
  {
   "cell_type": "code",
   "execution_count": 8,
   "metadata": {},
   "outputs": [
    {
     "data": {
      "text/plain": [
       "Text(0.5, 1.0, 'Severity Code')"
      ]
     },
     "execution_count": 8,
     "metadata": {},
     "output_type": "execute_result"
    },
    {
     "data": {
      "image/png": "[encoded data removed]",
      "text/plain": [
       "<Figure size 432x288 with 1 Axes>"
      ]
     },
     "metadata": {
      "needs_background": "light"
     },
     "output_type": "display_data"
    }
   ],
   "source": [
    "plt.hist(df2['SEVERITYCODE'], bins=2)\n",
    "plt.xticks([1,2])\n",
    "plt.title('Severity Code')"
   ]
  },
  {
   "cell_type": "markdown",
   "metadata": {},
   "source": [
    "Because severity code is the value we want to predict, we will need to convert the variable to labels and will have to set other independent variables as vectors variable to indicate situation levels (except location input which are X and Y)."
   ]
  },
  {
   "cell_type": "code",
   "execution_count": 9,
   "metadata": {},
   "outputs": [],
   "source": [
    "severitycode = df2['SEVERITYCODE'].values\n",
    "labels = preprocessing.LabelEncoder()\n",
    "labels.fit([1, 2])\n",
    "severitycode = labels.transform (severitycode)"
   ]
  },
  {
   "cell_type": "code",
   "execution_count": 10,
   "metadata": {},
   "outputs": [
    {
     "name": "stderr",
     "output_type": "stream",
     "text": [
      "/home/jupyterlab/conda/envs/python/lib/python3.6/site-packages/pandas/core/series.py:4569: SettingWithCopyWarning: \n",
      "A value is trying to be set on a copy of a slice from a DataFrame\n",
      "\n",
      "See the caveats in the documentation: https://pandas.pydata.org/pandas-docs/stable/user_guide/indexing.html#returning-a-view-versus-a-copy\n",
      "  method=method,\n"
     ]
    }
   ],
   "source": [
    "variables_ind = df2[['SEVERITYCODE', 'INATTENTIONIND', 'UNDERINFL', 'WEATHER', 'ROADCOND', 'LIGHTCOND','SPEEDING']]\n",
    "#check Inattention situation\n",
    "atten_levels = variables_ind['INATTENTIONIND'].unique()\n",
    "#set numeric values for attention level\n",
    "variables_ind[\"INATTENTIONIND\"].replace(\"Y\", 1, inplace=True)\n",
    "variables_ind[\"INATTENTIONIND\"].replace(np.nan, 0, inplace=True)\n",
    "\n",
    "#check drug influence situation\n",
    "variables_ind['UNDERINFL'].replace('Y', 1, inplace=True)\n",
    "variables_ind['UNDERINFL'].replace(np.nan, 0, inplace=True)\n",
    "variables_ind['UNDERINFL'].replace('N', 0, inplace=True)\n",
    "variables_ind['UNDERINFL'].replace('1', 1, inplace=True)\n",
    "variables_ind['UNDERINFL'].replace('0', 0, inplace=True)\n",
    "drug_levels = variables_ind['UNDERINFL'].unique()\n",
    "\n",
    "#check weather influence situation and pick severe levels\n",
    "variables_ind['WEATHER'].replace(np.nan, 0, inplace=True)\n",
    "variables_ind['WEATHER'].replace('Clear', 0, inplace=True)\n",
    "variables_ind['WEATHER'].replace('Unknown', 0, inplace=True)\n",
    "variables_ind['WEATHER'].replace('Other', 1, inplace=True)\n",
    "variables_ind['WEATHER'].replace('Overcast', 1, inplace=True)\n",
    "variables_ind['WEATHER'].replace('Partly Cloudy', 1, inplace=True)\n",
    "variables_ind['WEATHER'].replace('Fog/Smog/Smoke', 2, inplace=True)\n",
    "variables_ind['WEATHER'].replace('Raining', 2, inplace=True)\n",
    "variables_ind['WEATHER'].replace('Snowing', 3, inplace=True)\n",
    "variables_ind['WEATHER'].replace('Sleet/Hail/Freezing Rain', 3, inplace=True)\n",
    "variables_ind['WEATHER'].replace('Blowing Sand/Dirt', 4, inplace=True)\n",
    "variables_ind['WEATHER'].replace('Severe Crosswind', 4, inplace=True)\n",
    "\n",
    "\n",
    "#check road condition and pick severe levels\n",
    "road_levels = variables_ind['ROADCOND'].unique()\n",
    "variables_ind['ROADCOND'].replace(np.nan, 0, inplace=True)\n",
    "variables_ind['ROADCOND'].replace('Other', 1, inplace=True)\n",
    "variables_ind['ROADCOND'].replace('Unknown',0, inplace=True)\n",
    "variables_ind['ROADCOND'].replace('Dry', 0, inplace=True)\n",
    "variables_ind['ROADCOND'].replace('Sand/Mud/Dirt', 1, inplace=True)\n",
    "variables_ind['ROADCOND'].replace('Wet', 1, inplace=True)\n",
    "variables_ind['ROADCOND'].replace('Standing Water', 2, inplace=True)\n",
    "variables_ind['ROADCOND'].replace('Snow/Slush', 2, inplace=True)\n",
    "variables_ind['ROADCOND'].replace('Ice', 3, inplace=True)\n",
    "variables_ind['ROADCOND'].replace('Oil', 3, inplace=True)\n",
    "\n",
    "#check light condition and pick severe levels\n",
    "road_levels = variables_ind['LIGHTCOND'].unique()\n",
    "variables_ind['LIGHTCOND'].replace(np.nan, 0, inplace=True)\n",
    "variables_ind['LIGHTCOND'].replace('Daylight', 0, inplace=True)\n",
    "variables_ind['LIGHTCOND'].replace('Unknown', 0, inplace=True)\n",
    "variables_ind['LIGHTCOND'].replace('Other', 0, inplace=True)\n",
    "variables_ind['LIGHTCOND'].replace('Dusk', 1, inplace=True)\n",
    "variables_ind['LIGHTCOND'].replace('Dawn', 1, inplace=True)\n",
    "variables_ind['LIGHTCOND'].replace('Dark - Street Lights On', 2, inplace=True)\n",
    "variables_ind['LIGHTCOND'].replace('Dark - Unknown Lighting', 2, inplace=True)\n",
    "variables_ind['LIGHTCOND'].replace('Dark - Street Lights Off', 3, inplace=True)\n",
    "variables_ind['LIGHTCOND'].replace('Dark - No Street Lights', 3, inplace=True)\n",
    "\n",
    "#check speeding condition and pick severe levels\n",
    "road_levels = variables_ind['SPEEDING'].unique()\n",
    "variables_ind['SPEEDING'].replace('0', 0, inplace=True)\n",
    "variables_ind['SPEEDING'].replace(np.nan, 0, inplace=True)\n",
    "variables_ind['SPEEDING'].replace('Y', 1, inplace=True)"
   ]
  },
  {
   "cell_type": "code",
   "execution_count": 79,
   "metadata": {},
   "outputs": [
    {
     "data": {
      "text/html": [
       "<div>\n",
       "<style scoped>\n",
       "    .dataframe tbody tr th:only-of-type {\n",
       "        vertical-align: middle;\n",
       "    }\n",
       "\n",
       "    .dataframe tbody tr th {\n",
       "        vertical-align: top;\n",
       "    }\n",
       "\n",
       "    .dataframe thead th {\n",
       "        text-align: right;\n",
       "    }\n",
       "</style>\n",
       "<table border=\"1\" class=\"dataframe\">\n",
       "  <thead>\n",
       "    <tr style=\"text-align: right;\">\n",
       "      <th></th>\n",
       "      <th>SEVERITYCODE</th>\n",
       "      <th>INATTENTIONIND</th>\n",
       "      <th>UNDERINFL</th>\n",
       "      <th>WEATHER</th>\n",
       "      <th>ROADCOND</th>\n",
       "      <th>LIGHTCOND</th>\n",
       "      <th>SPEEDING</th>\n",
       "    </tr>\n",
       "  </thead>\n",
       "  <tbody>\n",
       "    <tr>\n",
       "      <th>SEVERITYCODE</th>\n",
       "      <td>1.000000</td>\n",
       "      <td>0.046378</td>\n",
       "      <td>0.044377</td>\n",
       "      <td>0.036330</td>\n",
       "      <td>0.023395</td>\n",
       "      <td>-0.003625</td>\n",
       "      <td>0.038938</td>\n",
       "    </tr>\n",
       "    <tr>\n",
       "      <th>INATTENTIONIND</th>\n",
       "      <td>0.046378</td>\n",
       "      <td>1.000000</td>\n",
       "      <td>-0.025953</td>\n",
       "      <td>-0.007797</td>\n",
       "      <td>-0.020218</td>\n",
       "      <td>-0.038663</td>\n",
       "      <td>-0.048805</td>\n",
       "    </tr>\n",
       "    <tr>\n",
       "      <th>UNDERINFL</th>\n",
       "      <td>0.044377</td>\n",
       "      <td>-0.025953</td>\n",
       "      <td>1.000000</td>\n",
       "      <td>0.017130</td>\n",
       "      <td>0.016764</td>\n",
       "      <td>0.238641</td>\n",
       "      <td>0.092356</td>\n",
       "    </tr>\n",
       "    <tr>\n",
       "      <th>WEATHER</th>\n",
       "      <td>0.036330</td>\n",
       "      <td>-0.007797</td>\n",
       "      <td>0.017130</td>\n",
       "      <td>1.000000</td>\n",
       "      <td>0.729870</td>\n",
       "      <td>0.185692</td>\n",
       "      <td>0.124187</td>\n",
       "    </tr>\n",
       "    <tr>\n",
       "      <th>ROADCOND</th>\n",
       "      <td>0.023395</td>\n",
       "      <td>-0.020218</td>\n",
       "      <td>0.016764</td>\n",
       "      <td>0.729870</td>\n",
       "      <td>1.000000</td>\n",
       "      <td>0.186130</td>\n",
       "      <td>0.163104</td>\n",
       "    </tr>\n",
       "    <tr>\n",
       "      <th>LIGHTCOND</th>\n",
       "      <td>-0.003625</td>\n",
       "      <td>-0.038663</td>\n",
       "      <td>0.238641</td>\n",
       "      <td>0.185692</td>\n",
       "      <td>0.186130</td>\n",
       "      <td>1.000000</td>\n",
       "      <td>0.098468</td>\n",
       "    </tr>\n",
       "    <tr>\n",
       "      <th>SPEEDING</th>\n",
       "      <td>0.038938</td>\n",
       "      <td>-0.048805</td>\n",
       "      <td>0.092356</td>\n",
       "      <td>0.124187</td>\n",
       "      <td>0.163104</td>\n",
       "      <td>0.098468</td>\n",
       "      <td>1.000000</td>\n",
       "    </tr>\n",
       "  </tbody>\n",
       "</table>\n",
       "</div>"
      ],
      "text/plain": [
       "                SEVERITYCODE  INATTENTIONIND  UNDERINFL   WEATHER  ROADCOND  \\\n",
       "SEVERITYCODE        1.000000        0.046378   0.044377  0.036330  0.023395   \n",
       "INATTENTIONIND      0.046378        1.000000  -0.025953 -0.007797 -0.020218   \n",
       "UNDERINFL           0.044377       -0.025953   1.000000  0.017130  0.016764   \n",
       "WEATHER             0.036330       -0.007797   0.017130  1.000000  0.729870   \n",
       "ROADCOND            0.023395       -0.020218   0.016764  0.729870  1.000000   \n",
       "LIGHTCOND          -0.003625       -0.038663   0.238641  0.185692  0.186130   \n",
       "SPEEDING            0.038938       -0.048805   0.092356  0.124187  0.163104   \n",
       "\n",
       "                LIGHTCOND  SPEEDING  \n",
       "SEVERITYCODE    -0.003625  0.038938  \n",
       "INATTENTIONIND  -0.038663 -0.048805  \n",
       "UNDERINFL        0.238641  0.092356  \n",
       "WEATHER          0.185692  0.124187  \n",
       "ROADCOND         0.186130  0.163104  \n",
       "LIGHTCOND        1.000000  0.098468  \n",
       "SPEEDING         0.098468  1.000000  "
      ]
     },
     "execution_count": 79,
     "metadata": {},
     "output_type": "execute_result"
    }
   ],
   "source": []
  },
  {
   "cell_type": "code",
   "execution_count": 11,
   "metadata": {},
   "outputs": [
    {
     "name": "stderr",
     "output_type": "stream",
     "text": [
      "No handles with labels found to put in legend.\n"
     ]
    },
    {
     "data": {
      "image/png": "[encoded data removed]",
      "text/plain": [
       "<Figure size 432x216 with 2 Axes>"
      ]
     },
     "metadata": {
      "needs_background": "light"
     },
     "output_type": "display_data"
    }
   ],
   "source": [
    "import seaborn as sns\n",
    "\n",
    "bins = np.linspace(variables_ind.ROADCOND.min(), variables_ind.ROADCOND.max(),5)\n",
    "g = sns.FacetGrid(df, col=\"SEVERITYCODE\", palette=\"Set1\", col_wrap=2)\n",
    "g.map(plt.hist, 'ROADCOND',bins=bins, ec=\"k\")\n",
    "\n",
    "g.axes[-1].legend()\n",
    "plt.show()"
   ]
  },
  {
   "cell_type": "code",
   "execution_count": 12,
   "metadata": {},
   "outputs": [
    {
     "data": {
      "image/png": "[encoded data removed]",
      "text/plain": [
       "<Figure size 432x288 with 1 Axes>"
      ]
     },
     "metadata": {
      "needs_background": "light"
     },
     "output_type": "display_data"
    },
    {
     "data": {
      "image/png": "[encoded data removed]",
      "text/plain": [
       "<Figure size 432x288 with 1 Axes>"
      ]
     },
     "metadata": {
      "needs_background": "light"
     },
     "output_type": "display_data"
    },
    {
     "data": {
      "image/png": "[encoded data removed]",
      "text/plain": [
       "<Figure size 432x288 with 1 Axes>"
      ]
     },
     "metadata": {
      "needs_background": "light"
     },
     "output_type": "display_data"
    }
   ],
   "source": [
    "import seaborn as sns\n",
    "ax1= sns.countplot(x=\"WEATHER\",data=df2)\n",
    "plt.xticks(rotation = 90)\n",
    "plt.show()\n",
    "\n",
    "ax2 = sns.countplot(x=\"ROADCOND\",data=df2)\n",
    "plt.xticks(rotation = 90)\n",
    "plt.show()\n",
    "\n",
    "ax3 = sns.countplot(x=\"LIGHTCOND\",data=df2)\n",
    "plt.xticks(rotation = 90)\n",
    "plt.show()"
   ]
  },
  {
   "cell_type": "code",
   "execution_count": 13,
   "metadata": {},
   "outputs": [],
   "source": [
    "from sklearn.model_selection import train_test_split\n",
    "from sklearn import svm\n",
    "from sklearn import metrics\n",
    "from sklearn.linear_model import LogisticRegression\n",
    "from sklearn.neighbors import KNeighborsClassifier\n",
    "from sklearn.tree import DecisionTreeClassifier\n",
    "import pydotplus\n",
    "import matplotlib.image as mpimg\n",
    "from io import StringIO\n",
    "import itertools\n",
    "import folium\n",
    "import webbrowser\n",
    "from folium import plugins\n",
    "import pandas as pd\n",
    "from sklearn import preprocessing"
   ]
  },
  {
   "cell_type": "code",
   "execution_count": 13,
   "metadata": {},
   "outputs": [],
   "source": [
    "x = variables_ind.values #returns a numpy array\n",
    "min_max_scaler = preprocessing.MinMaxScaler()\n",
    "x_scaled = min_max_scaler.fit_transform(x)\n",
    "variables_norm = pd.DataFrame(x_scaled, columns = variables_ind.columns)"
   ]
  },
  {
   "cell_type": "code",
   "execution_count": 14,
   "metadata": {},
   "outputs": [
    {
     "name": "stdout",
     "output_type": "stream",
     "text": [
      "Requirement already up-to-date: scikit-learn in /home/jupyterlab/conda/envs/python/lib/python3.6/site-packages (0.23.2)\n",
      "Requirement already satisfied, skipping upgrade: numpy>=1.13.3 in /home/jupyterlab/conda/envs/python/lib/python3.6/site-packages (from scikit-learn) (1.19.1)\n",
      "Requirement already satisfied, skipping upgrade: joblib>=0.11 in /home/jupyterlab/conda/envs/python/lib/python3.6/site-packages (from scikit-learn) (0.17.0)\n",
      "Requirement already satisfied, skipping upgrade: scipy>=0.19.1 in /home/jupyterlab/conda/envs/python/lib/python3.6/site-packages (from scikit-learn) (1.5.2)\n",
      "Requirement already satisfied, skipping upgrade: threadpoolctl>=2.0.0 in /home/jupyterlab/conda/envs/python/lib/python3.6/site-packages (from scikit-learn) (2.1.0)\n"
     ]
    }
   ],
   "source": [
    "!pip install -U scikit-learn\n",
    "from scipy import stats\n",
    "import scipy as sp\n",
    "import random"
   ]
  },
  {
   "cell_type": "code",
   "execution_count": 15,
   "metadata": {},
   "outputs": [],
   "source": [
    "import seaborn as sns\n",
    "from sklearn.tree import DecisionTreeClassifier\n",
    "from sklearn.model_selection import train_test_split\n",
    "from sklearn import svm\n",
    "from sklearn import metrics"
   ]
  },
  {
   "cell_type": "code",
   "execution_count": 16,
   "metadata": {},
   "outputs": [
    {
     "name": "stdout",
     "output_type": "stream",
     "text": [
      "Requirement already satisfied: six in /home/jupyterlab/conda/envs/python/lib/python3.6/site-packages (1.15.0)\n"
     ]
    }
   ],
   "source": [
    " !pip install six"
   ]
  },
  {
   "cell_type": "code",
   "execution_count": 17,
   "metadata": {},
   "outputs": [
    {
     "name": "stdout",
     "output_type": "stream",
     "text": [
      "Requirement already up-to-date: imbalanced-learn in /home/jupyterlab/conda/envs/python/lib/python3.6/site-packages (0.7.0)\n",
      "Requirement already satisfied, skipping upgrade: numpy>=1.13.3 in /home/jupyterlab/conda/envs/python/lib/python3.6/site-packages (from imbalanced-learn) (1.19.1)\n",
      "Requirement already satisfied, skipping upgrade: scikit-learn>=0.23 in /home/jupyterlab/conda/envs/python/lib/python3.6/site-packages (from imbalanced-learn) (0.23.2)\n",
      "Requirement already satisfied, skipping upgrade: joblib>=0.11 in /home/jupyterlab/conda/envs/python/lib/python3.6/site-packages (from imbalanced-learn) (0.17.0)\n",
      "Requirement already satisfied, skipping upgrade: scipy>=0.19.1 in /home/jupyterlab/conda/envs/python/lib/python3.6/site-packages (from imbalanced-learn) (1.5.2)\n",
      "Requirement already satisfied, skipping upgrade: threadpoolctl>=2.0.0 in /home/jupyterlab/conda/envs/python/lib/python3.6/site-packages (from scikit-learn>=0.23->imbalanced-learn) (2.1.0)\n",
      "Collecting package metadata (current_repodata.json): done\n",
      "Solving environment: done\n",
      "\n",
      "\n",
      "==> WARNING: A newer version of conda exists. <==\n",
      "  current version: 4.8.5\n",
      "  latest version: 4.9.0\n",
      "\n",
      "Please update conda by running\n",
      "\n",
      "    $ conda update -n base -c defaults conda\n",
      "\n",
      "\n",
      "\n",
      "# All requested packages already installed.\n",
      "\n"
     ]
    }
   ],
   "source": [
    "!pip install -U imbalanced-learn\n",
    "!conda install -c conda-forge imbalanced-learn -y"
   ]
  },
  {
   "cell_type": "code",
   "execution_count": 18,
   "metadata": {},
   "outputs": [
    {
     "name": "stdout",
     "output_type": "stream",
     "text": [
      "Requirement already up-to-date: imbalanced-learn in /home/jupyterlab/conda/envs/python/lib/python3.6/site-packages (0.7.0)\n",
      "Requirement already satisfied, skipping upgrade: numpy>=1.13.3 in /home/jupyterlab/conda/envs/python/lib/python3.6/site-packages (from imbalanced-learn) (1.19.1)\n",
      "Requirement already satisfied, skipping upgrade: scikit-learn>=0.23 in /home/jupyterlab/conda/envs/python/lib/python3.6/site-packages (from imbalanced-learn) (0.23.2)\n",
      "Requirement already satisfied, skipping upgrade: joblib>=0.11 in /home/jupyterlab/conda/envs/python/lib/python3.6/site-packages (from imbalanced-learn) (0.17.0)\n",
      "Requirement already satisfied, skipping upgrade: scipy>=0.19.1 in /home/jupyterlab/conda/envs/python/lib/python3.6/site-packages (from imbalanced-learn) (1.5.2)\n",
      "Requirement already satisfied, skipping upgrade: threadpoolctl>=2.0.0 in /home/jupyterlab/conda/envs/python/lib/python3.6/site-packages (from scikit-learn>=0.23->imbalanced-learn) (2.1.0)\n",
      "Note: you may need to restart the kernel to use updated packages.\n"
     ]
    }
   ],
   "source": [
    "pip install -U imbalanced-learn"
   ]
  },
  {
   "cell_type": "code",
   "execution_count": 19,
   "metadata": {},
   "outputs": [
    {
     "name": "stdout",
     "output_type": "stream",
     "text": [
      "Collecting git+https://github.com/scikit-learn-contrib/imbalanced-learn.git\n",
      "  Cloning https://github.com/scikit-learn-contrib/imbalanced-learn.git to /tmp/pip-req-build-gyye9bj2\n",
      "  Running command git clone -q https://github.com/scikit-learn-contrib/imbalanced-learn.git /tmp/pip-req-build-gyye9bj2\n",
      "Requirement already satisfied, skipping upgrade: numpy>=1.13.3 in /home/jupyterlab/conda/envs/python/lib/python3.6/site-packages (from imbalanced-learn==0.7.0) (1.19.1)\n",
      "Requirement already satisfied, skipping upgrade: scipy>=0.19.1 in /home/jupyterlab/conda/envs/python/lib/python3.6/site-packages (from imbalanced-learn==0.7.0) (1.5.2)\n",
      "Requirement already satisfied, skipping upgrade: scikit-learn>=0.23 in /home/jupyterlab/conda/envs/python/lib/python3.6/site-packages (from imbalanced-learn==0.7.0) (0.23.2)\n",
      "Requirement already satisfied, skipping upgrade: joblib>=0.11 in /home/jupyterlab/conda/envs/python/lib/python3.6/site-packages (from imbalanced-learn==0.7.0) (0.17.0)\n",
      "Requirement already satisfied, skipping upgrade: threadpoolctl>=2.0.0 in /home/jupyterlab/conda/envs/python/lib/python3.6/site-packages (from scikit-learn>=0.23->imbalanced-learn==0.7.0) (2.1.0)\n",
      "Building wheels for collected packages: imbalanced-learn\n",
      "  Building wheel for imbalanced-learn (setup.py) ... \u001b[?25ldone\n",
      "\u001b[?25h  Stored in directory: /tmp/pip-ephem-wheel-cache-ry3rbxdc/wheels/6c/07/cf/38cb9b7cc9e6a0ac7648a80ec192b6f2d863405fb0049ac0ff\n",
      "Successfully built imbalanced-learn\n",
      "Installing collected packages: imbalanced-learn\n",
      "  Found existing installation: imbalanced-learn 0.7.0\n",
      "    Uninstalling imbalanced-learn-0.7.0:\n",
      "      Successfully uninstalled imbalanced-learn-0.7.0\n",
      "Successfully installed imbalanced-learn-0.7.0\n"
     ]
    }
   ],
   "source": [
    "!pip install -U git+https://github.com/scikit-learn-contrib/imbalanced-learn.git"
   ]
  },
  {
   "cell_type": "code",
   "execution_count": 21,
   "metadata": {},
   "outputs": [],
   "source": [
    "from imblearn.over_sampling import SMOTE"
   ]
  },
  {
   "cell_type": "code",
   "execution_count": 36,
   "metadata": {},
   "outputs": [],
   "source": [
    "from sklearn.metrics import accuracy_score,f1_score,log_loss,classification_report,confusion_matrix,jaccard_score"
   ]
  },
  {
   "cell_type": "code",
   "execution_count": 90,
   "metadata": {},
   "outputs": [
    {
     "name": "stdout",
     "output_type": "stream",
     "text": [
      "Train set: (155738, 5) (155738, 1)\n",
      "Test set: (38935, 5) (38935, 1)\n"
     ]
    }
   ],
   "source": [
    "X=variables_ind[[\"SPEEDING\", \"INATTENTIONIND\", \"UNDERINFL\",\"WEATHER\",\"LIGHTCOND\"]].values\n",
    "y=variables_ind[[\"SEVERITYCODE\"]].values\n",
    "x_train, x_test, y_train, y_test = train_test_split(X, y, test_size=0.2, random_state=6)\n",
    "print ('Train set:', x_train.shape,  y_train.shape)\n",
    "print ('Test set:', x_test.shape,  y_test.shape)"
   ]
  },
  {
   "cell_type": "code",
   "execution_count": 85,
   "metadata": {},
   "outputs": [],
   "source": []
  },
  {
   "cell_type": "code",
   "execution_count": 88,
   "metadata": {},
   "outputs": [],
   "source": []
  },
  {
   "cell_type": "code",
   "execution_count": null,
   "metadata": {},
   "outputs": [],
   "source": []
  },
  {
   "cell_type": "code",
   "execution_count": 91,
   "metadata": {},
   "outputs": [],
   "source": [
    "balanced = SMOTE (random_state=8)\n",
    "x_balance, y_balance= balanced.fit_sample(x_train, y_train)"
   ]
  },
  {
   "cell_type": "code",
   "execution_count": 98,
   "metadata": {},
   "outputs": [
    {
     "name": "stdout",
     "output_type": "stream",
     "text": [
      "Accuracy score for Decision Tree =  0.5966097341723385\n",
      "Confusion Matrix - Decision Tree\n",
      "Predicted      1      2    All\n",
      "True                          \n",
      "1          18370   8870  27240\n",
      "2           6836   4859  11695\n",
      "All        25206  13729  38935\n",
      "              precision    recall  f1-score   support\n",
      "\n",
      "           1       0.67      0.73      0.70     25206\n",
      "           2       0.42      0.35      0.38     13729\n",
      "\n",
      "    accuracy                           0.60     38935\n",
      "   macro avg       0.54      0.54      0.54     38935\n",
      "weighted avg       0.58      0.60      0.59     38935\n",
      "\n"
     ]
    }
   ],
   "source": [
    "Deci_Tree = DecisionTreeClassifier(criterion=\"entropy\", max_depth=5)\n",
    "Deci_Tree.fit(x_balance, y_balance)\n",
    "yhat_tree = Deci_Tree.predict(x_test)\n",
    "print('Accuracy score for Decision Tree = ', accuracy_score(yhat_tree, y_test))\n",
    "print('Confusion Matrix - Decision Tree')\n",
    "print(pd.crosstab(y_test.ravel(), yhat_tree.ravel(), rownames = ['True'], colnames = ['Predicted'], margins = True))\n",
    "print(classification_report(yhat_tree,y_test))"
   ]
  },
  {
   "cell_type": "code",
   "execution_count": null,
   "metadata": {},
   "outputs": [],
   "source": []
  },
  {
   "cell_type": "code",
   "execution_count": 101,
   "metadata": {},
   "outputs": [
    {
     "name": "stdout",
     "output_type": "stream",
     "text": [
      "the severity level is [2]\n"
     ]
    }
   ],
   "source": [
    "#testing conditions\n",
    "x_test_test = np.array([[0,0,3,1,0]])\n",
    "y_hat_result = Deci_Tree.predict(x_test_test)\n",
    "print(\"the severity level is\", y_hat_result)"
   ]
  },
  {
   "cell_type": "code",
   "execution_count": 49,
   "metadata": {},
   "outputs": [
    {
     "data": {
      "text/plain": [
       "array([[0., 0., 0., 0., 0., 0.],\n",
       "       [0., 0., 0., 1., 2., 2.],\n",
       "       [0., 0., 0., 0., 0., 0.],\n",
       "       ...,\n",
       "       [0., 0., 0., 0., 0., 0.],\n",
       "       [0., 0., 0., 0., 0., 0.],\n",
       "       [0., 0., 0., 1., 2., 0.]])"
      ]
     },
     "execution_count": 49,
     "metadata": {},
     "output_type": "execute_result"
    }
   ],
   "source": [
    "x_test"
   ]
  },
  {
   "cell_type": "code",
   "execution_count": 25,
   "metadata": {},
   "outputs": [],
   "source": [
    "from sklearn.linear_model import LogisticRegression"
   ]
  },
  {
   "cell_type": "code",
   "execution_count": 102,
   "metadata": {},
   "outputs": [
    {
     "name": "stdout",
     "output_type": "stream",
     "text": [
      "0.6891217461804294\n",
      "Accuracy 0.6086811352253756\n",
      "              precision    recall  f1-score   support\n",
      "\n",
      "           1       0.73      0.71      0.72     27240\n",
      "           2       0.36      0.38      0.37     11695\n",
      "\n",
      "    accuracy                           0.61     38935\n",
      "   macro avg       0.54      0.54      0.54     38935\n",
      "weighted avg       0.61      0.61      0.61     38935\n",
      "\n"
     ]
    }
   ],
   "source": [
    "#Logistic Regression\n",
    "Logi = LogisticRegression(solver='sag').fit(x_balance, y_balance)\n",
    "yhat_log = Logi.predict(x_test)\n",
    "yhat_prob = Logi.predict_proba(x_test)\n",
    "print(log_loss(y_test, yhat_prob))\n",
    "print (\"Accuracy\", accuracy_score(yhat_log,y_test))\n",
    "print (classification_report(y_test, yhat_log))\n",
    "cnf_matrix = confusion_matrix(y_test, yhat_log, labels=[1,2])\n",
    "np.set_printoptions(precision=8)"
   ]
  },
  {
   "cell_type": "code",
   "execution_count": 29,
   "metadata": {},
   "outputs": [],
   "source": [
    "#Confusion Matrix\n",
    "\n",
    "from sklearn.metrics import classification_report, confusion_matrix\n",
    "import itertools\n",
    "def plot_confusion_matrix(cm, classes,\n",
    "                          normalize=False,\n",
    "                          title='Confusion matrix',\n",
    "                          cmap=plt.cm.Blues):\n",
    "    if normalize:\n",
    "        cm = cm.astype('float') / cm.sum(axis=1)[:, np.newaxis]\n",
    "        print(\"Normalized confusion matrix\")\n",
    "    else:\n",
    "        print('Confusion matrix, without normalization')\n",
    "    print(cm)\n",
    "\n",
    "    plt.imshow(cm, interpolation='nearest', cmap=cmap)\n",
    "    plt.title(title)\n",
    "    plt.colorbar()\n",
    "    tick_marks = np.arange(len(classes))\n",
    "    plt.xticks(tick_marks, classes, rotation=45)\n",
    "    plt.yticks(tick_marks, classes)\n",
    "\n",
    "    fmt = '.2f' if normalize else 'd'\n",
    "    thresh = cm.max() / 2.\n",
    "    for i, j in itertools.product(range(cm.shape[0]), range(cm.shape[1])):\n",
    "        plt.text(j, i, format(cm[i, j], fmt),\n",
    "                 horizontalalignment=\"center\",\n",
    "                 color=\"white\" if cm[i, j] > thresh else \"black\")\n",
    "\n",
    "    plt.tight_layout()\n",
    "    plt.ylabel('True label')\n",
    "    plt.xlabel('Predicted label')"
   ]
  },
  {
   "cell_type": "code",
   "execution_count": 103,
   "metadata": {},
   "outputs": [
    {
     "name": "stdout",
     "output_type": "stream",
     "text": [
      "Confusion matrix, without normalization\n",
      "[[18370  8870]\n",
      " [ 6836  4859]]\n",
      "Avg F1-score: 0.6049\n",
      "Jaccard score: 0.5391\n"
     ]
    },
    {
     "data": {
      "image/png": "[encoded data removed]",
      "text/plain": [
       "<Figure size 432x288 with 2 Axes>"
      ]
     },
     "metadata": {
      "needs_background": "light"
     },
     "output_type": "display_data"
    }
   ],
   "source": [
    "#Decision Tree\n",
    "matrix1 = confusion_matrix(y_test, yhat_tree)\n",
    "np.set_printoptions(precision=2)\n",
    "plt.figure()\n",
    "plot_confusion_matrix(matrix1, classes=['Damage','Injury'],normalize= False,  title='Confusion matrix')\n",
    "print(\"Avg F1-score: %.4f\" % f1_score(y_test, yhat_tree, average='weighted'))\n",
    "print(\"Jaccard score: %.4f\" % jaccard_score(y_test, yhat_tree))"
   ]
  },
  {
   "cell_type": "code",
   "execution_count": null,
   "metadata": {},
   "outputs": [],
   "source": [
    "y_hat_p = lm.predict(x)"
   ]
  },
  {
   "cell_type": "code",
   "execution_count": 105,
   "metadata": {},
   "outputs": [
    {
     "name": "stdout",
     "output_type": "stream",
     "text": [
      "Confusion matrix, without normalization\n",
      "[[19306  7934]\n",
      " [ 7302  4393]]\n",
      "Avg F1-score: 0.6115\n",
      "Jaccard score: 0.5589\n"
     ]
    },
    {
     "data": {
      "image/png": "[encoded data removed]",
      "text/plain": [
       "<Figure size 432x288 with 2 Axes>"
      ]
     },
     "metadata": {
      "needs_background": "light"
     },
     "output_type": "display_data"
    }
   ],
   "source": [
    "#Logi\n",
    "matrix2 = confusion_matrix(y_test, yhat_log)\n",
    "plot_confusion_matrix(matrix2, classes=['Damage','Injury'],normalize= False,  title='Confusion matrix')\n",
    "print(\"Avg F1-score: %.4f\" % f1_score(y_test, yhat_log, average='weighted'))\n",
    "print(\"Jaccard score: %.4f\" % jaccard_score(y_test, yhat_log))"
   ]
  },
  {
   "cell_type": "code",
   "execution_count": 101,
   "metadata": {},
   "outputs": [],
   "source": [
    "from sklearn.neighbors import KNeighborsClassifier"
   ]
  },
  {
   "cell_type": "code",
   "execution_count": 103,
   "metadata": {},
   "outputs": [
    {
     "data": {
      "text/plain": [
       "array([1, 1, 1, 1, 1])"
      ]
     },
     "execution_count": 103,
     "metadata": {},
     "output_type": "execute_result"
    }
   ],
   "source": [
    "k = 6\n",
    "neigh = KNeighborsClassifier(n_neighbors = k).fit(x_balance,y_balance)\n",
    "yhat = neigh.predict(x_test)\n",
    "yhat[0:5]"
   ]
  },
  {
   "cell_type": "code",
   "execution_count": null,
   "metadata": {},
   "outputs": [],
   "source": [
    "knn_clf = KNeighborsClassifier(n_jobs=1)\n",
    "knn_clf.fit(x_balance,y_balance)"
   ]
  },
  {
   "cell_type": "code",
   "execution_count": null,
   "metadata": {},
   "outputs": [],
   "source": [
    "print(\"Train set Accuracy: \", metrics.accuracy_score(y_balance, neigh.predict(x_balance)))\n",
    "print(\"Test set Accuracy: \", metrics.accuracy_score(y_test, yhat))"
   ]
  },
  {
   "cell_type": "code",
   "execution_count": null,
   "metadata": {},
   "outputs": [],
   "source": [
    "Ks = 10\n",
    "mean_acc = np.zeros((Ks-1))\n",
    "std_acc = np.zeros((Ks-1))\n",
    "ConfustionMx = [];\n",
    "for n in range(1,Ks):\n",
    "    \n",
    "    #Train Model and Predict  \n",
    "    neigh = KNeighborsClassifier(n_neighbors = n).fit(X_train,y_train)\n",
    "    yhat=neigh.predict(X_test)\n",
    "    mean_acc[n-1] = metrics.accuracy_score(y_test, yhat)\n",
    "\n",
    "    \n",
    "    std_acc[n-1]=np.std(yhat==y_test)/np.sqrt(yhat.shape[0])\n",
    "\n",
    "mean_acc"
   ]
  },
  {
   "cell_type": "code",
   "execution_count": null,
   "metadata": {},
   "outputs": [],
   "source": [
    "plt.plot(range(1,kmean),mean,'g')\n",
    "plt.xlabel('K')\n",
    "plt.ylabel('Accuracy')\n",
    "plt.title('Evaluation of accuracy incrementing the value of K')\n",
    "plt.fill_between(range(1,kmean),mean-1*std_acc,mean+1*std, alpha=0.1)"
   ]
  },
  {
   "cell_type": "code",
   "execution_count": null,
   "metadata": {},
   "outputs": [],
   "source": [
    "# define the world map centered around Seattle with a low zoom level\n",
    "seattle_map = folium.Map(location=[47.608013, -122.335167], zoom_start=10, tiles='Stamen Terrain')\n",
    "\n",
    "# display seattle map\n",
    "seattle_map"
   ]
  },
  {
   "cell_type": "code",
   "execution_count": 25,
   "metadata": {},
   "outputs": [],
   "source": [
    "from sklearn import svm"
   ]
  },
  {
   "cell_type": "code",
   "execution_count": null,
   "metadata": {},
   "outputs": [],
   "source": [
    "clf = svm.SVC(kernel='rbf')\n",
    "clf.fit(x_balance, y_balance) "
   ]
  },
  {
   "cell_type": "code",
   "execution_count": null,
   "metadata": {},
   "outputs": [],
   "source": [
    "yhat1 = clf.predict(x_test)\n",
    "print(\"Avg F1-score: %.4f\" % f1_score(y_test, yhat1, average='weighted'))\n",
    "print(\"Jaccard score: %.4f\" % jaccard_similarity_score(y_test, yhat1))"
   ]
  },
  {
   "cell_type": "code",
   "execution_count": null,
   "metadata": {},
   "outputs": [],
   "source": [
    "clf1 = svm.SVC(kernel='linear')\n",
    "clf1.fit(x_balance, y_balance) \n",
    "yhat1 = clf1.predict(X_test)\n",
    "print(\"Avg F1-score: %.4f\" % f1_score(y_test, yhat1, average='weighted'))\n",
    "print(\"Jaccard score: %.4f\" % jaccard_similarity_score(y_test, yhat1))"
   ]
  },
  {
   "cell_type": "code",
   "execution_count": null,
   "metadata": {},
   "outputs": [],
   "source": []
  }
 ],
 "metadata": {
  "kernelspec": {
   "display_name": "Python",
   "language": "python",
   "name": "conda-env-python-py"
  },
  "language_info": {
   "codemirror_mode": {
    "name": "ipython",
    "version": 3
   },
   "file_extension": ".py",
   "mimetype": "text/x-python",
   "name": "python",
   "nbconvert_exporter": "python",
   "pygments_lexer": "ipython3",
   "version": "3.6.11"
  }
 },
 "nbformat": 4,
 "nbformat_minor": 4
}
